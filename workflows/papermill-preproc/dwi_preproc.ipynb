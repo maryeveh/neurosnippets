{
 "cells": [
  {
   "cell_type": "code",
   "execution_count": null,
   "id": "novel-georgia",
   "metadata": {},
   "outputs": [],
   "source": [
    "import nibabel as nib\n",
    "import matplotlib.pyplot as plt\n",
    "\n",
    "def show_mid_slices(image):\n",
    "    \"\"\" Function to display row of image middle slices \"\"\"\n",
    "    shape = image.shape\n",
    "    slices = [image[int(shape[0]/2), :, :],\n",
    "             image[:, int(shape[1]/2), :],\n",
    "             image[:, :, int(shape[2]/2)]]\n",
    "    \n",
    "    fig, axes = plt.subplots(1, len(slices), figsize=(500,200))\n",
    "    for i, slice in enumerate(slices):\n",
    "        axes[i].imshow(slice.T, cmap=\"gray\", origin=\"lower\")\n",
    "\n",
    "        \n",
    "def show_vol_slices(image):\n",
    "    \"\"\" Function to display slices from several volumes \"\"\"\n",
    "    shape = image.shape\n",
    "    vols = shape[3]\n",
    "    slices = image[:, :, int(shape[2]/2), :]\n",
    "    \n",
    "    fig, axes = plt.subplots(int(vols/5)+1, 5, figsize=(50,20*(int(vols/5)+1)))\n",
    "    print((500,200*(int(vols/5)+1)))\n",
    "    for i in range(vols):\n",
    "        if vols > 5:\n",
    "            axes[int(i/5),i%5].imshow(slices[:,:,i].T, cmap=\"gray\", origin=\"lower\")\n",
    "        else:\n",
    "            axes[i].imshow(slices[:,:,i].T, cmap=\"gray\", origin=\"lower\")"
   ]
  },
  {
   "cell_type": "code",
   "execution_count": null,
   "id": "saving-granny",
   "metadata": {
    "tags": [
     "parameters"
    ]
   },
   "outputs": [],
   "source": [
    "# pa and ap parameters are mandatory\n",
    "pa = \"\"\n",
    "ap = \"\"\n",
    "# bvec and bval need to be specified only for the main encoding direction\n",
    "# and only if the basename is different from the nifti file\n",
    "bvec = \"\"\n",
    "bval = \"\"\n",
    "# the main encoding direction (PA or AP)\n",
    "main_dir = \"PA\"\n",
    "# the readout may be omitted if it is the same for both directions\n",
    "readout_pa = 0.1\n",
    "readout_ap = 0.1\n",
    "# the position of the actual b0 volumes\n",
    "pa_b0 = 0\n",
    "ap_b0 = 0"
   ]
  },
  {
   "cell_type": "code",
   "execution_count": null,
   "id": "final-variable",
   "metadata": {},
   "outputs": [],
   "source": [
    "if main_dir == \"PA\":\n",
    "    data = pa\n",
    "    ix = 1\n",
    "else:\n",
    "    data = ap\n",
    "    ix = 2\n",
    "    \n",
    "if bvec == \"\":\n",
    "    bvec = '/'.join([*data.split('/')[:-1], '']) + data.split('/')[-1].split('.')[0] + '.bvec'\n",
    "    bval = '/'.join([*data.split('/')[:-1], '']) + data.split('/')[-1].split('.')[0] + '.bval'"
   ]
  },
  {
   "cell_type": "markdown",
   "id": "vertical-palace",
   "metadata": {},
   "source": [
    "# Sample slices for PA image"
   ]
  },
  {
   "cell_type": "code",
   "execution_count": null,
   "id": "extensive-score",
   "metadata": {},
   "outputs": [],
   "source": [
    "pa_img = nib.load(pa)\n",
    "pa_img_data = pa_img.get_fdata()\n",
    "\n",
    "show_mid_slices(pa_img_data[:,:,:,pa_b0])  "
   ]
  },
  {
   "cell_type": "markdown",
   "id": "geographic-cooperative",
   "metadata": {},
   "source": [
    "# Sample slices for AP image"
   ]
  },
  {
   "cell_type": "code",
   "execution_count": null,
   "id": "federal-municipality",
   "metadata": {},
   "outputs": [],
   "source": [
    "ap_img = nib.load(ap)\n",
    "ap_img_data = ap_img.get_fdata()\n",
    "\n",
    "show_mid_slices(ap_img_data[:,:,:,ap_b0])"
   ]
  },
  {
   "cell_type": "code",
   "execution_count": null,
   "id": "valued-baltimore",
   "metadata": {},
   "outputs": [],
   "source": [
    "%%bash -s \"$pa\" \"$ap\"\n",
    "dwidenoise $1 PA_denoised.nii\n",
    "mrdegibbs PA_denoised.nii PA_unringed.nii\n",
    "dwidenoise $2 AP_denoised.nii\n",
    "mrdegibbs AP_denoised.nii AP_unringed.nii"
   ]
  },
  {
   "cell_type": "markdown",
   "id": "administrative-citizen",
   "metadata": {},
   "source": [
    "# Sample slices for unringed PA image"
   ]
  },
  {
   "cell_type": "code",
   "execution_count": null,
   "id": "heard-paradise",
   "metadata": {},
   "outputs": [],
   "source": [
    "pa_img = nib.load('PA_unringed.nii')\n",
    "pa_img_data = pa_img.get_fdata()\n",
    "\n",
    "show_mid_slices(pa_img_data[:,:,:,pa_b0]) "
   ]
  },
  {
   "cell_type": "markdown",
   "id": "constant-master",
   "metadata": {},
   "source": [
    "# Sample slices for unringed AP image"
   ]
  },
  {
   "cell_type": "code",
   "execution_count": null,
   "id": "played-breach",
   "metadata": {},
   "outputs": [],
   "source": [
    "ap_img = nib.load('AP_unringed.nii')\n",
    "ap_img_data = ap_img.get_fdata()\n",
    "\n",
    "show_mid_slices(ap_img_data[:,:,:,ap_b0])"
   ]
  },
  {
   "cell_type": "code",
   "execution_count": null,
   "id": "golden-insider",
   "metadata": {},
   "outputs": [],
   "source": [
    "%%bash -s \"$pa_b0\" \"$ap_b0\" \"$readout_pa\" \"$readout_ap\"\n",
    "fslroi PA_unringed.nii b0_blip_up.nii.gz $1 1\n",
    "fslroi AP_unringed.nii b0_blip_down.nii.gz $2 1\n",
    "fslmerge -t b0_blip_up_down.nii.gz b0_blip_up.nii.gz b0_blip_down.nii.gz\n",
    "\n",
    "printf \"0 1 0 $3\\n0 -1 0 $4\" > params.txt\n",
    "\n",
    "topup --imain=b0_blip_up_down --datain=params.txt --config=b02b0.cnf --out=topup_results --iout=hifi\n",
    "\n",
    "fslmaths hifi -Tmean hifi\n",
    "bet hifi hifi_brain -m"
   ]
  },
  {
   "cell_type": "markdown",
   "id": "toxic-heavy",
   "metadata": {},
   "source": [
    "# Topup results"
   ]
  },
  {
   "cell_type": "code",
   "execution_count": null,
   "id": "planned-syria",
   "metadata": {},
   "outputs": [],
   "source": [
    "hifi_img = nib.load('hifi.nii.gz')\n",
    "hifi_img_data = hifi_img.get_fdata()\n",
    "\n",
    "show_mid_slices(hifi_img_data)"
   ]
  },
  {
   "cell_type": "code",
   "execution_count": null,
   "id": "prime-hebrew",
   "metadata": {},
   "outputs": [],
   "source": [
    "%%bash -s \"$data\" \"$ix\" \"$bvec\" \"$bval\"\n",
    "vols=$(mrinfo $1 | grep \"Dimensions\" | cut -d 'x' -f 4 | tr -d ' ')\n",
    "indx=\"\"\n",
    "for  ((i=1; i<=$vols; i+=1)); do indx=\"$indx $2\"; done\n",
    "echo $indx > index.txt\n",
    "\n",
    "eddy --imain=$1 --mask=hifi_brain_mask --acqp=params.txt --index=index.txt \\\n",
    "    --bvecs=$3 --bvals=$4 --topup=topup_results --out=eddy_corrected --data_is_shelled"
   ]
  },
  {
   "cell_type": "markdown",
   "id": "agricultural-jewelry",
   "metadata": {},
   "source": [
    "# Eddy results"
   ]
  },
  {
   "cell_type": "code",
   "execution_count": null,
   "id": "laughing-happening",
   "metadata": {},
   "outputs": [],
   "source": [
    "eddy_img = nib.load('eddy_corrected.nii.gz')\n",
    "eddy_img_data =eddy_img.get_fdata()\n",
    "\n",
    "show_vol_slices(eddy_img_data)"
   ]
  }
 ],
 "metadata": {
  "celltoolbar": "Tags",
  "kernelspec": {
   "display_name": "Python 3",
   "language": "python",
   "name": "python3"
  },
  "language_info": {
   "codemirror_mode": {
    "name": "ipython",
    "version": 3
   },
   "file_extension": ".py",
   "mimetype": "text/x-python",
   "name": "python",
   "nbconvert_exporter": "python",
   "pygments_lexer": "ipython3",
   "version": "3.7.3"
  }
 },
 "nbformat": 4,
 "nbformat_minor": 5
}
